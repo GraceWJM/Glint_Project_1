{
 "cells": [
  {
   "cell_type": "code",
   "execution_count": 0,
   "metadata": {
    "application/vnd.databricks.v1+cell": {
     "cellMetadata": {
      "byteLimit": 2048000,
      "rowLimit": 10000
     },
     "inputWidgets": {},
     "nuid": "c6c5caec-fafe-4262-8d36-314800c7f223",
     "showTitle": false,
     "title": ""
    }
   },
   "outputs": [],
   "source": [
    "from pyspark.sql import SparkSession\n",
    "from pyspark.sql.functions import col, sum"
   ]
  },
  {
   "cell_type": "code",
   "execution_count": 0,
   "metadata": {
    "application/vnd.databricks.v1+cell": {
     "cellMetadata": {
      "byteLimit": 2048000,
      "rowLimit": 10000
     },
     "inputWidgets": {},
     "nuid": "134bec28-14de-402d-aaf4-af5c5ab38b6d",
     "showTitle": false,
     "title": ""
    }
   },
   "outputs": [],
   "source": [
    "spark = SparkSession.builder.getOrCreate()"
   ]
  },
  {
   "cell_type": "markdown",
   "metadata": {
    "application/vnd.databricks.v1+cell": {
     "cellMetadata": {},
     "inputWidgets": {},
     "nuid": "fed19a96-a3f9-45ec-9083-deda1e110ac2",
     "showTitle": false,
     "title": ""
    }
   },
   "source": [
    "## Read Yelp data"
   ]
  },
  {
   "cell_type": "code",
   "execution_count": 0,
   "metadata": {
    "application/vnd.databricks.v1+cell": {
     "cellMetadata": {
      "byteLimit": 2048000,
      "rowLimit": 10000
     },
     "inputWidgets": {},
     "nuid": "1091c174-5cce-4b49-997e-88f576737b4b",
     "showTitle": false,
     "title": ""
    }
   },
   "outputs": [],
   "source": [
    "business_df = spark.read.format(\"json\").load(\"dbfs:/FileStore/shared_uploads/sparklesparkle1102@outlook.com/yelp_academic_dataset_business.json\")\n",
    "tip_df = spark.read.format(\"json\").load(\"dbfs:/FileStore/shared_uploads/sparklesparkle1102@outlook.com/yelp_academic_dataset_tip.json\")\n",
    "checkin_df = spark.read.format(\"json\").load(\"dbfs:/FileStore/shared_uploads/sparklesparkle1102@outlook.com/yelp_academic_dataset_checkin.json\")\n",
    "review_df = spark.read.parquet(\"dbfs:/FileStore/shared_uploads/sparklesparkle1102@outlook.com/review_parquet\")\n",
    "user_df = spark.read.parquet(\"dbfs:/FileStore/shared_uploads/sparklesparkle1102@outlook.com/user.parquet\")"
   ]
  },
  {
   "cell_type": "markdown",
   "metadata": {
    "application/vnd.databricks.v1+cell": {
     "cellMetadata": {},
     "inputWidgets": {},
     "nuid": "e149e61b-e7a8-4aa2-8a44-289af7190a72",
     "showTitle": false,
     "title": ""
    }
   },
   "source": [
    "## Check data schema"
   ]
  },
  {
   "cell_type": "code",
   "execution_count": 0,
   "metadata": {
    "application/vnd.databricks.v1+cell": {
     "cellMetadata": {
      "byteLimit": 2048000,
      "rowLimit": 10000
     },
     "inputWidgets": {},
     "nuid": "f08172fe-de58-4369-adda-73eb853108c4",
     "showTitle": false,
     "title": ""
    }
   },
   "outputs": [
    {
     "output_type": "stream",
     "name": "stdout",
     "output_type": "stream",
     "text": [
      "root\n |-- address: string (nullable = true)\n |-- attributes: struct (nullable = true)\n |    |-- AcceptsInsurance: string (nullable = true)\n |    |-- AgesAllowed: string (nullable = true)\n |    |-- Alcohol: string (nullable = true)\n |    |-- Ambience: string (nullable = true)\n |    |-- BYOB: string (nullable = true)\n |    |-- BYOBCorkage: string (nullable = true)\n |    |-- BestNights: string (nullable = true)\n |    |-- BikeParking: string (nullable = true)\n |    |-- BusinessAcceptsBitcoin: string (nullable = true)\n |    |-- BusinessAcceptsCreditCards: string (nullable = true)\n |    |-- BusinessParking: string (nullable = true)\n |    |-- ByAppointmentOnly: string (nullable = true)\n |    |-- Caters: string (nullable = true)\n |    |-- CoatCheck: string (nullable = true)\n |    |-- Corkage: string (nullable = true)\n |    |-- DietaryRestrictions: string (nullable = true)\n |    |-- DogsAllowed: string (nullable = true)\n |    |-- DriveThru: string (nullable = true)\n |    |-- GoodForDancing: string (nullable = true)\n |    |-- GoodForKids: string (nullable = true)\n |    |-- GoodForMeal: string (nullable = true)\n |    |-- HairSpecializesIn: string (nullable = true)\n |    |-- HappyHour: string (nullable = true)\n |    |-- HasTV: string (nullable = true)\n |    |-- Music: string (nullable = true)\n |    |-- NoiseLevel: string (nullable = true)\n |    |-- Open24Hours: string (nullable = true)\n |    |-- OutdoorSeating: string (nullable = true)\n |    |-- RestaurantsAttire: string (nullable = true)\n |    |-- RestaurantsCounterService: string (nullable = true)\n |    |-- RestaurantsDelivery: string (nullable = true)\n |    |-- RestaurantsGoodForGroups: string (nullable = true)\n |    |-- RestaurantsPriceRange2: string (nullable = true)\n |    |-- RestaurantsReservations: string (nullable = true)\n |    |-- RestaurantsTableService: string (nullable = true)\n |    |-- RestaurantsTakeOut: string (nullable = true)\n |    |-- Smoking: string (nullable = true)\n |    |-- WheelchairAccessible: string (nullable = true)\n |    |-- WiFi: string (nullable = true)\n |-- business_id: string (nullable = true)\n |-- categories: string (nullable = true)\n |-- city: string (nullable = true)\n |-- hours: struct (nullable = true)\n |    |-- Friday: string (nullable = true)\n |    |-- Monday: string (nullable = true)\n |    |-- Saturday: string (nullable = true)\n |    |-- Sunday: string (nullable = true)\n |    |-- Thursday: string (nullable = true)\n |    |-- Tuesday: string (nullable = true)\n |    |-- Wednesday: string (nullable = true)\n |-- is_open: long (nullable = true)\n |-- latitude: double (nullable = true)\n |-- longitude: double (nullable = true)\n |-- name: string (nullable = true)\n |-- postal_code: string (nullable = true)\n |-- review_count: long (nullable = true)\n |-- stars: double (nullable = true)\n |-- state: string (nullable = true)\n\nroot\n |-- business_id: string (nullable = true)\n |-- date: string (nullable = true)\n\nroot\n |-- business_id: string (nullable = true)\n |-- compliment_count: long (nullable = true)\n |-- date: string (nullable = true)\n |-- text: string (nullable = true)\n |-- user_id: string (nullable = true)\n\nroot\n |-- business_id: string (nullable = true)\n |-- cool: long (nullable = true)\n |-- date: string (nullable = true)\n |-- funny: long (nullable = true)\n |-- review_id: string (nullable = true)\n |-- stars: double (nullable = true)\n |-- text: string (nullable = true)\n |-- useful: long (nullable = true)\n |-- user_id: string (nullable = true)\n\nroot\n |-- average_stars: double (nullable = true)\n |-- compliment_cool: long (nullable = true)\n |-- compliment_cute: long (nullable = true)\n |-- compliment_funny: long (nullable = true)\n |-- compliment_hot: long (nullable = true)\n |-- compliment_list: long (nullable = true)\n |-- compliment_more: long (nullable = true)\n |-- compliment_note: long (nullable = true)\n |-- compliment_photos: long (nullable = true)\n |-- compliment_plain: long (nullable = true)\n |-- compliment_profile: long (nullable = true)\n |-- compliment_writer: long (nullable = true)\n |-- cool: long (nullable = true)\n |-- elite: string (nullable = true)\n |-- fans: long (nullable = true)\n |-- friends: string (nullable = true)\n |-- funny: long (nullable = true)\n |-- name: string (nullable = true)\n |-- review_count: long (nullable = true)\n |-- useful: long (nullable = true)\n |-- user_id: string (nullable = true)\n |-- yelping_since: string (nullable = true)\n\n"
     ]
    }
   ],
   "source": [
    "business_df.printSchema()\n",
    "checkin_df.printSchema()\n",
    "tip_df.printSchema()\n",
    "review_df.printSchema()\n",
    "user_df.printSchema()"
   ]
  },
  {
   "cell_type": "markdown",
   "metadata": {
    "application/vnd.databricks.v1+cell": {
     "cellMetadata": {},
     "inputWidgets": {},
     "nuid": "39412827-2e35-46f6-904c-1a758d9e434b",
     "showTitle": false,
     "title": ""
    }
   },
   "source": [
    "## Select columns requested by DA team"
   ]
  },
  {
   "cell_type": "code",
   "execution_count": 0,
   "metadata": {
    "application/vnd.databricks.v1+cell": {
     "cellMetadata": {
      "byteLimit": 2048000,
      "rowLimit": 10000
     },
     "inputWidgets": {},
     "nuid": "f635a793-a391-4322-bdf2-81f8f8c0e850",
     "showTitle": false,
     "title": ""
    }
   },
   "outputs": [
    {
     "output_type": "stream",
     "name": "stdout",
     "output_type": "stream",
     "text": [
      "+--------------------+--------------+-----+--------------------+------------+\n|         business_id|          city|state|          categories|review_count|\n+--------------------+--------------+-----+--------------------+------------+\n|Pns2l4eNsfO8kk83d...| Santa Barbara|   CA|Doctors, Traditio...|           7|\n|mpf3x-BjTdTEA3yCZ...|        Affton|   MO|Shipping Centers,...|          15|\n|tUFrWirKiKi_TAnsV...|        Tucson|   AZ|Department Stores...|          22|\n|MTSW4McQd7CbVtyjq...|  Philadelphia|   PA|Restaurants, Food...|          80|\n|mWMc6_wTdE0EUBKIG...|    Green Lane|   PA|Brewpubs, Breweri...|          13|\n|CF33F8-E6oudUQ46H...|  Ashland City|   TN|Burgers, Fast Foo...|           6|\n|n_0UpQx1hsNbnPUSl...|     Brentwood|   MO|Sporting Goods, F...|          13|\n|qkRM_2X51Yqxk3btl...|St. Petersburg|   FL|Synagogues, Relig...|           5|\n|k0hlBqXX-Bt0vf1op...|        Affton|   MO|Pubs, Restaurants...|          19|\n|bBDDEgkFA1Otx9Lfe...|     Nashville|   TN|Ice Cream & Froze...|          10|\n|UJsufbvfyfONHeWdv...| Land O' Lakes|   FL|Department Stores...|           6|\n|eEOYSgkmpB90uNA7l...|     Tampa Bay|   FL|Vietnamese, Food,...|          10|\n|il_Ro8jwPlHresjw9...|  Indianapolis|   IN|American (Traditi...|          28|\n|jaxMSoInw8Poo3XeM...|    Clearwater|   FL|General Dentistry...|          10|\n|0bPLkL0QhhPO5kt1_...|         Largo|   FL|Food, Delis, Ital...|         100|\n|MUTTqe8uqyMdBl186...|  Philadelphia|   PA|Sushi Bars, Resta...|         245|\n|rBmpy_Y1UbBx8ggHl...|        Tucson|   AZ|Automotive, Auto ...|          10|\n|M0XSSHqrASOnhgbWD...|   New Orleans|   LA|Vape Shops, Tobac...|           5|\n|8wGISYjYkE2tSqn3c...|        Kenner|   LA|Automotive, Car R...|          14|\n|ROeacJQwBeh05Rqg7...|  Philadelphia|   PA| Korean, Restaurants|         205|\n+--------------------+--------------+-----+--------------------+------------+\nonly showing top 20 rows\n\n+--------------------+--------------------+--------------------+-------------------+\n|           review_id|         business_id|             user_id|               date|\n+--------------------+--------------------+--------------------+-------------------+\n|MmmrqbdupYBJq9jnl...|znK6tMeegKf9YnGut...|TjD2S66AWxlKsPSQB...|2021-04-16 22:02:21|\n|1_uWX0bBJNnZjPEcp...|UxwpCVLgPWCeaRyet...|Vtfxxq3nxdYHRiH6O...|2021-01-03 21:54:48|\n|WVAEE47MnM3Sv2cvM...|eVI64EQymywsvMLmD...|ZDw_qN5Fy6PE0gdbV...|2020-11-01 19:50:03|\n|D5b6iooZZcJ8nG-9P...|SPcPJfPgWzhjUDqVF...|UvMDlX2wV4Md9OwGW...|2021-03-24 05:53:49|\n|uDxnT7zWFnxEDxp5e...|T5XzQ6YnVExvd0BOR...|ir9ixBZPzBwWe9IZ_...|2016-06-13 21:25:10|\n|WjEfcAKUDOg7ADeI9...|9Ldo7ocJHVrEzRXUp...|6WW9sM9H2pKMr01tw...|2015-05-14 21:27:04|\n|kIwilPBNm5bjS27AK...|mdNm8X3vcedYXQ-vw...|SVtNqAQFwOca_3yr1...|2019-01-05 14:39:38|\n|ws8zCdr7clKI2IQ-Y...|QVGHZ_gV-0fO8GeHn...|pMj9HULhkLzg2qqcl...|2017-04-23 00:27:17|\n|S8EQJVkE7TDpy7nna...|sv3mfbZEI8frLbUbR...|LVGZiLxiJe3VsUpaU...|2020-01-20 01:01:34|\n|q3zrcBqcyK_nfDTIx...|0b7cBRywLcoqUpa3P...|PPhQehweJHbMSTEp7...|2020-06-15 00:25:29|\n|Xt1zUzmXEManar3Gz...|WM89sIfap8g0JXmwX...|R9IJ1Byr27n6wXj3Q...|2020-04-27 20:23:27|\n|qS9x5AoGPQGN3BmT4...|7Iv-6B0EH-yVo5o_V...|7JiwGIYyr8W4xguSs...|2020-06-13 14:33:13|\n|CDilyHXE5ij20b2Ri...|u7cZUEGK6iJP2gvI2...|FUUEU3ZN5cL1nNNR2...|2013-01-24 14:36:59|\n|FoUNHWn9_4V2nZVH9...|GWH_fPOdtIjFZT4-X...|LY_YVPuJogpjX2MSa...|2014-01-03 01:54:16|\n|fA1tbiON_6AJrTbXv...|wkKhsrQe4CQAmYW7I...|K4bFNYdR23y9PXnGg...|2013-07-26 17:23:48|\n|_ceC3pivZYcRgY1g9...|L_HVYZJEiHXaMJjG3...|PFX0lEkTPyBS_dBbu...|2020-06-06 13:35:28|\n|LmDQ2MNItZebqEq3s...|lm2ZtQMo_CjTI4LFc...|LC3fpdaTtp7iszHel...|2020-09-09 19:07:37|\n|mCK-Vy_DfOEJEn2t5...|f3KY0RWfhWM9GS7Kj...|h1i7LY14_jjNcrxxk...|2016-12-18 14:49:39|\n|-uEthQPNFh62ewIKJ...|HZDU3FkWkrQG3dzEa...|xlvXh8mtQSi7rcMjA...|2018-04-06 21:21:22|\n|TeH6-r3vrs9Gc6CKO...|sB1_t1ps-qKkKpPxu...|WMmMoSBnWV8XcSldE...|2015-10-01 01:33:47|\n+--------------------+--------------------+--------------------+-------------------+\nonly showing top 20 rows\n\n"
     ]
    }
   ],
   "source": [
    "business_df_final = business_df.select(\"business_id\", \"city\", \"state\", \"categories\", \"review_count\")\n",
    "review_df_final = review_df.select(\"review_id\", \"business_id\", \"user_id\", \"date\")\n",
    "business_df_final.show()\n",
    "review_df_final.show()\n",
    "#business_df.select(\"attributes.*\").display()\n",
    "#business_df.select(\"hours.*\").display()"
   ]
  },
  {
   "cell_type": "markdown",
   "metadata": {
    "application/vnd.databricks.v1+cell": {
     "cellMetadata": {},
     "inputWidgets": {},
     "nuid": "353fb0b2-07ef-425d-a380-1bbb12073c63",
     "showTitle": false,
     "title": ""
    }
   },
   "source": [
    "## Drop duplicated rows in business table"
   ]
  },
  {
   "cell_type": "code",
   "execution_count": 0,
   "metadata": {
    "application/vnd.databricks.v1+cell": {
     "cellMetadata": {
      "byteLimit": 2048000,
      "rowLimit": 10000
     },
     "inputWidgets": {},
     "nuid": "93e64843-6e40-4f06-b926-1e0837546325",
     "showTitle": false,
     "title": ""
    }
   },
   "outputs": [
    {
     "output_type": "stream",
     "name": "stdout",
     "output_type": "stream",
     "text": [
      "+--------------------+--------------+-----+--------------------+------------+\n|         business_id|          city|state|          categories|review_count|\n+--------------------+--------------+-----+--------------------+------------+\n|jaxMSoInw8Poo3XeM...|    Clearwater|   FL|General Dentistry...|          10|\n|WKMJwqnfZKsAae75R...|      Edmonton|   AB|Coffee & Tea, Foo...|          40|\n|ROeacJQwBeh05Rqg7...|  Philadelphia|   PA| Korean, Restaurants|         205|\n|k0hlBqXX-Bt0vf1op...|        Affton|   MO|Pubs, Restaurants...|          19|\n|CF33F8-E6oudUQ46H...|  Ashland City|   TN|Burgers, Fast Foo...|           6|\n|bBDDEgkFA1Otx9Lfe...|     Nashville|   TN|Ice Cream & Froze...|          10|\n|rBmpy_Y1UbBx8ggHl...|        Tucson|   AZ|Automotive, Auto ...|          10|\n|il_Ro8jwPlHresjw9...|  Indianapolis|   IN|American (Traditi...|          28|\n|0bPLkL0QhhPO5kt1_...|         Largo|   FL|Food, Delis, Ital...|         100|\n|UJsufbvfyfONHeWdv...| Land O' Lakes|   FL|Department Stores...|           6|\n|tUFrWirKiKi_TAnsV...|        Tucson|   AZ|Department Stores...|          22|\n|qkRM_2X51Yqxk3btl...|St. Petersburg|   FL|Synagogues, Relig...|           5|\n|Pns2l4eNsfO8kk83d...| Santa Barbara|   CA|Doctors, Traditio...|           7|\n|mWMc6_wTdE0EUBKIG...|    Green Lane|   PA|Brewpubs, Breweri...|          13|\n|M0XSSHqrASOnhgbWD...|   New Orleans|   LA|Vape Shops, Tobac...|           5|\n|eEOYSgkmpB90uNA7l...|     Tampa Bay|   FL|Vietnamese, Food,...|          10|\n|MUTTqe8uqyMdBl186...|  Philadelphia|   PA|Sushi Bars, Resta...|         245|\n|8wGISYjYkE2tSqn3c...|        Kenner|   LA|Automotive, Car R...|          14|\n|MTSW4McQd7CbVtyjq...|  Philadelphia|   PA|Restaurants, Food...|          80|\n|mpf3x-BjTdTEA3yCZ...|        Affton|   MO|Shipping Centers,...|          15|\n+--------------------+--------------+-----+--------------------+------------+\nonly showing top 20 rows\n\n+--------------------+--------------------+--------------------+-------------------+\n|           review_id|         business_id|             user_id|               date|\n+--------------------+--------------------+--------------------+-------------------+\n|1_uWX0bBJNnZjPEcp...|UxwpCVLgPWCeaRyet...|Vtfxxq3nxdYHRiH6O...|2021-01-03 21:54:48|\n|6kwktNYRib2oWHNHa...|pDUcsN79bDwhOMBaD...|u5ueF05YmDkxQ-Yb9...|2020-02-18 05:54:00|\n|-3qiGuJMKY08GWnYD...|_n5Rg5-C5iBsdv1l6...|MGxTfu1E071YgF172...|2021-09-09 22:34:28|\n|bjkShKKOJ-0caNu05...|qmaI4o8RQC1SF9Vsx...|7m0qIYm_BK7sptPKj...|2020-02-15 17:52:08|\n|TCxPLTKdh960qrB75...|YB7XhN4rJbF0O0WfE...|0KW4GR1ZCuVa99jXn...|2020-09-08 04:58:09|\n|pG0oAyxGnMv7YwHjT...|-N9ysCcO-ekOMlwid...|oQsGFQB96Qm2wtQVh...|2020-09-09 17:37:08|\n|EAAS9k6EwK-hqMjNq...|aMyLjP8kcNGG2oPyQ...|BfoPbQQKjn2sUekXl...|2020-09-16 23:40:58|\n|dA9Iyj46j0AHRhLZt...|jLsAwortT8sdnqFLo...|aHP-jqrpNca4t7MFW...|2019-12-29 02:05:04|\n|7FvV-nDAPRSx0MO8E...|H0TidC6ft9wkTBAhs...|q7FqkUZxc_9T1aV1Q...|2020-07-18 20:31:01|\n|oCCVe0NyIbVZkGe86...|oezgNp_pv_EBHAdY_...|nGGkc2cYAjDmxyYb7...|2021-02-19 05:33:45|\n|YKe-a9_KOrR9r5lxO...|BK8NZlJtgsKnh_L_m...|i8_b2hnbTQd_ZoHkw...|2020-07-25 16:56:57|\n|jSuVK1t7_knm-Jtqm...|wf0yPZRvfmkrvhJ6m...|QdcTivAAat-3M8Zli...|2018-11-10 16:09:37|\n|IY9Dk9bgaP5cYUxJ3...|FX89yIMKDvg6yhlQT...|Z1W0RCxV8HXOQufHl...|2020-12-22 23:25:54|\n|TjUVVGfmTMwoORxce...|dQR7ZcEsOC9L-LKRY...|t7qzRSjjJM6ehebA4...|2021-07-20 00:59:30|\n|mCK-Vy_DfOEJEn2t5...|f3KY0RWfhWM9GS7Kj...|h1i7LY14_jjNcrxxk...|2016-12-18 14:49:39|\n|2isXaf8ILA8F_1Wq4...|-ejuzGbu3ZHUndhLT...|A7QQJGjyFvzigDmQz...|2021-08-29 00:51:40|\n|Bz5v69fZKhQbWD_EG...|sK0eAOorT6sf2mF5s...|TB1fQoI6m3vL6H7mN...|2019-06-24 14:28:26|\n|0A5yh_S9tj9DK9ZKh...|xcIMF3KwRsZ1ppRJR...|LDHzfHaxCvnsb9q0x...|2021-06-12 17:47:12|\n|5fOMfCjiEqhM81u_h...|UjOq8dBVNv9weHrVD...|UJaroI0uilmjAVyo1...|2021-03-12 00:46:03|\n|dLtIJ6w2RNuflY-TF...|P6iHMvttUL4HJ0fXb...|3-mq42XU2P1xC1qAD...|2020-08-05 18:24:38|\n+--------------------+--------------------+--------------------+-------------------+\nonly showing top 20 rows\n\n"
     ]
    }
   ],
   "source": [
    "# Drop dulicated rows\n",
    "business_df_final_ = business_df_final.dropDuplicates()\n",
    "review_df_final_ = review_df_final.dropDuplicates()\n",
    "\n",
    "business_df_final_.show()\n",
    "review_df_final_.show()\n"
   ]
  },
  {
   "cell_type": "markdown",
   "metadata": {
    "application/vnd.databricks.v1+cell": {
     "cellMetadata": {},
     "inputWidgets": {},
     "nuid": "d7f16749-0745-4405-bd08-1aa7cb5381de",
     "showTitle": false,
     "title": ""
    }
   },
   "source": [
    "## Check duplicates in prime key"
   ]
  },
  {
   "cell_type": "code",
   "execution_count": 0,
   "metadata": {
    "application/vnd.databricks.v1+cell": {
     "cellMetadata": {
      "byteLimit": 2048000,
      "rowLimit": 10000
     },
     "inputWidgets": {},
     "nuid": "f3198a88-c663-4d86-a38e-dbf3a9e7ee13",
     "showTitle": false,
     "title": ""
    }
   },
   "outputs": [
    {
     "output_type": "stream",
     "name": "stdout",
     "output_type": "stream",
     "text": [
      "No duplicate rows found in the primary key.\n"
     ]
    }
   ],
   "source": [
    "# Group by the primary key column(s) and count the occurrences\n",
    "duplicate_rows_business = business_df_final_.groupBy('business_id').count().filter(col('count') > 1)\n",
    "duplicate_rows_review = review_df_final_.groupBy('review_id').count().filter(col('count') > 1)\n",
    "\n",
    "# Check if there are any duplicate rows in the primary key\n",
    "if duplicate_rows_business.count() > 0:\n",
    "    print(\"Duplicate rows found in the primary key: business_id.\")\n",
    "    duplicate_rows_business.show()\n",
    "elif duplicate_rows_review.count() > 0:\n",
    "    print(\"Duplicate rows found in the primary key: review_id.\")\n",
    "    duplicate_rows_review.show()\n",
    "else:\n",
    "    print(\"No duplicate rows found in the primary key.\")"
   ]
  },
  {
   "cell_type": "markdown",
   "metadata": {
    "application/vnd.databricks.v1+cell": {
     "cellMetadata": {},
     "inputWidgets": {},
     "nuid": "c0682051-dc5f-40db-aecd-4af16af37756",
     "showTitle": false,
     "title": ""
    }
   },
   "source": [
    "## Check Null values in Business and Review"
   ]
  },
  {
   "cell_type": "code",
   "execution_count": 0,
   "metadata": {
    "application/vnd.databricks.v1+cell": {
     "cellMetadata": {
      "byteLimit": 2048000,
      "rowLimit": 10000
     },
     "inputWidgets": {},
     "nuid": "bf5dbbd0-3cd9-4bf3-972d-07503604063f",
     "showTitle": false,
     "title": ""
    }
   },
   "outputs": [
    {
     "output_type": "stream",
     "name": "stdout",
     "output_type": "stream",
     "text": [
      "+-----------+----+-----+----------+------------+\n|business_id|city|state|categories|review_count|\n+-----------+----+-----+----------+------------+\n|          0|   0|    0|       103|           0|\n+-----------+----+-----+----------+------------+\n\n+---------+-----------+-------+----+\n|review_id|business_id|user_id|date|\n+---------+-----------+-------+----+\n|        0|          0|      0|   0|\n+---------+-----------+-------+----+\n\n"
     ]
    }
   ],
   "source": [
    "# Calculate the sum of null values in each column\n",
    "null_counts_business = business_df_final_.select([sum(col(column).isNull().cast(\"integer\")).alias(column) for column in business_df_final_.columns])\n",
    "null_counts_review = review_df_final_.select([sum(col(column).isNull().cast(\"integer\")).alias(column) for column in review_df_final_.columns])\n",
    "\n",
    "# Show the column-wise null value counts\n",
    "null_counts_business.show()\n",
    "null_counts_review.show()"
   ]
  },
  {
   "cell_type": "markdown",
   "metadata": {
    "application/vnd.databricks.v1+cell": {
     "cellMetadata": {},
     "inputWidgets": {},
     "nuid": "442cdeb7-3c0f-4374-bd63-c6f4388b0eb3",
     "showTitle": false,
     "title": ""
    }
   },
   "source": [
    "## Fill the Null Values with \"N/A\""
   ]
  },
  {
   "cell_type": "code",
   "execution_count": 0,
   "metadata": {
    "application/vnd.databricks.v1+cell": {
     "cellMetadata": {
      "byteLimit": 2048000,
      "rowLimit": 10000
     },
     "inputWidgets": {},
     "nuid": "72000930-4d52-48f5-9a6f-6e6725da0ffb",
     "showTitle": false,
     "title": ""
    }
   },
   "outputs": [
    {
     "output_type": "stream",
     "name": "stdout",
     "output_type": "stream",
     "text": [
      "+--------------------+--------------+-----+--------------------+------------+\n|         business_id|          city|state|          categories|review_count|\n+--------------------+--------------+-----+--------------------+------------+\n|jaxMSoInw8Poo3XeM...|    Clearwater|   FL|General Dentistry...|          10|\n|WKMJwqnfZKsAae75R...|      Edmonton|   AB|Coffee & Tea, Foo...|          40|\n|ROeacJQwBeh05Rqg7...|  Philadelphia|   PA| Korean, Restaurants|         205|\n|k0hlBqXX-Bt0vf1op...|        Affton|   MO|Pubs, Restaurants...|          19|\n|CF33F8-E6oudUQ46H...|  Ashland City|   TN|Burgers, Fast Foo...|           6|\n|bBDDEgkFA1Otx9Lfe...|     Nashville|   TN|Ice Cream & Froze...|          10|\n|rBmpy_Y1UbBx8ggHl...|        Tucson|   AZ|Automotive, Auto ...|          10|\n|il_Ro8jwPlHresjw9...|  Indianapolis|   IN|American (Traditi...|          28|\n|0bPLkL0QhhPO5kt1_...|         Largo|   FL|Food, Delis, Ital...|         100|\n|UJsufbvfyfONHeWdv...| Land O' Lakes|   FL|Department Stores...|           6|\n|tUFrWirKiKi_TAnsV...|        Tucson|   AZ|Department Stores...|          22|\n|qkRM_2X51Yqxk3btl...|St. Petersburg|   FL|Synagogues, Relig...|           5|\n|Pns2l4eNsfO8kk83d...| Santa Barbara|   CA|Doctors, Traditio...|           7|\n|mWMc6_wTdE0EUBKIG...|    Green Lane|   PA|Brewpubs, Breweri...|          13|\n|M0XSSHqrASOnhgbWD...|   New Orleans|   LA|Vape Shops, Tobac...|           5|\n|eEOYSgkmpB90uNA7l...|     Tampa Bay|   FL|Vietnamese, Food,...|          10|\n|MUTTqe8uqyMdBl186...|  Philadelphia|   PA|Sushi Bars, Resta...|         245|\n|8wGISYjYkE2tSqn3c...|        Kenner|   LA|Automotive, Car R...|          14|\n|MTSW4McQd7CbVtyjq...|  Philadelphia|   PA|Restaurants, Food...|          80|\n|mpf3x-BjTdTEA3yCZ...|        Affton|   MO|Shipping Centers,...|          15|\n+--------------------+--------------+-----+--------------------+------------+\nonly showing top 20 rows\n\n+--------------------+--------------------+--------------------+-------------------+\n|           review_id|         business_id|             user_id|               date|\n+--------------------+--------------------+--------------------+-------------------+\n|1_uWX0bBJNnZjPEcp...|UxwpCVLgPWCeaRyet...|Vtfxxq3nxdYHRiH6O...|2021-01-03 21:54:48|\n|6kwktNYRib2oWHNHa...|pDUcsN79bDwhOMBaD...|u5ueF05YmDkxQ-Yb9...|2020-02-18 05:54:00|\n|-3qiGuJMKY08GWnYD...|_n5Rg5-C5iBsdv1l6...|MGxTfu1E071YgF172...|2021-09-09 22:34:28|\n|bjkShKKOJ-0caNu05...|qmaI4o8RQC1SF9Vsx...|7m0qIYm_BK7sptPKj...|2020-02-15 17:52:08|\n|TCxPLTKdh960qrB75...|YB7XhN4rJbF0O0WfE...|0KW4GR1ZCuVa99jXn...|2020-09-08 04:58:09|\n|pG0oAyxGnMv7YwHjT...|-N9ysCcO-ekOMlwid...|oQsGFQB96Qm2wtQVh...|2020-09-09 17:37:08|\n|EAAS9k6EwK-hqMjNq...|aMyLjP8kcNGG2oPyQ...|BfoPbQQKjn2sUekXl...|2020-09-16 23:40:58|\n|dA9Iyj46j0AHRhLZt...|jLsAwortT8sdnqFLo...|aHP-jqrpNca4t7MFW...|2019-12-29 02:05:04|\n|7FvV-nDAPRSx0MO8E...|H0TidC6ft9wkTBAhs...|q7FqkUZxc_9T1aV1Q...|2020-07-18 20:31:01|\n|oCCVe0NyIbVZkGe86...|oezgNp_pv_EBHAdY_...|nGGkc2cYAjDmxyYb7...|2021-02-19 05:33:45|\n|YKe-a9_KOrR9r5lxO...|BK8NZlJtgsKnh_L_m...|i8_b2hnbTQd_ZoHkw...|2020-07-25 16:56:57|\n|jSuVK1t7_knm-Jtqm...|wf0yPZRvfmkrvhJ6m...|QdcTivAAat-3M8Zli...|2018-11-10 16:09:37|\n|IY9Dk9bgaP5cYUxJ3...|FX89yIMKDvg6yhlQT...|Z1W0RCxV8HXOQufHl...|2020-12-22 23:25:54|\n|TjUVVGfmTMwoORxce...|dQR7ZcEsOC9L-LKRY...|t7qzRSjjJM6ehebA4...|2021-07-20 00:59:30|\n|mCK-Vy_DfOEJEn2t5...|f3KY0RWfhWM9GS7Kj...|h1i7LY14_jjNcrxxk...|2016-12-18 14:49:39|\n|2isXaf8ILA8F_1Wq4...|-ejuzGbu3ZHUndhLT...|A7QQJGjyFvzigDmQz...|2021-08-29 00:51:40|\n|Bz5v69fZKhQbWD_EG...|sK0eAOorT6sf2mF5s...|TB1fQoI6m3vL6H7mN...|2019-06-24 14:28:26|\n|0A5yh_S9tj9DK9ZKh...|xcIMF3KwRsZ1ppRJR...|LDHzfHaxCvnsb9q0x...|2021-06-12 17:47:12|\n|5fOMfCjiEqhM81u_h...|UjOq8dBVNv9weHrVD...|UJaroI0uilmjAVyo1...|2021-03-12 00:46:03|\n|dLtIJ6w2RNuflY-TF...|P6iHMvttUL4HJ0fXb...|3-mq42XU2P1xC1qAD...|2020-08-05 18:24:38|\n+--------------------+--------------------+--------------------+-------------------+\nonly showing top 20 rows\n\n"
     ]
    }
   ],
   "source": [
    "# Get the columns name with Null values\n",
    "subset_business = [column for column in null_counts_business.columns if null_counts_business.filter(col(column).isNotNull() & (col(column) != 0)).count() > 0]\n",
    "subset_review = [column for column in null_counts_review.columns if null_counts_review.filter(col(column).isNotNull() & (col(column) != 0)).count() > 0]\n",
    "\n",
    "# Fill null values with a default value\n",
    "business_df_final_filled = business_df_final_.fillna('N/A', subset=subset_business)\n",
    "review_df_final_filled = review_df_final_.fillna('N/A', subset=subset_review)\n",
    "\n",
    "# Show the DataFrame with filled null values\n",
    "business_df_final_filled.show()\n",
    "review_df_final_filled.show()"
   ]
  },
  {
   "cell_type": "markdown",
   "metadata": {
    "application/vnd.databricks.v1+cell": {
     "cellMetadata": {},
     "inputWidgets": {},
     "nuid": "b0a3628d-4b18-4d79-9bdf-42a226bd8198",
     "showTitle": false,
     "title": ""
    }
   },
   "source": [
    "##Check if there are negtive values in business table"
   ]
  },
  {
   "cell_type": "code",
   "execution_count": 0,
   "metadata": {
    "application/vnd.databricks.v1+cell": {
     "cellMetadata": {
      "byteLimit": 2048000,
      "rowLimit": 10000
     },
     "inputWidgets": {},
     "nuid": "2680874f-120d-4af1-93be-78a35f57b7ec",
     "showTitle": false,
     "title": ""
    }
   },
   "outputs": [
    {
     "output_type": "stream",
     "name": "stdout",
     "output_type": "stream",
     "text": [
      "The column 'review_count' does not contain negative values.\n"
     ]
    }
   ],
   "source": [
    "# Specify the name of the column to check\n",
    "column_name = \"review_count\"\n",
    "\n",
    "# Check if there are negative values in the specified column\n",
    "has_negative_values = business_df_final_filled.filter(col(column_name).isNotNull() & (col(column_name) < 0)).count() > 0\n",
    "\n",
    "# Print the result\n",
    "if has_negative_values:\n",
    "    print(\"The column '{}' contains negative values.\".format(column_name))\n",
    "else:\n",
    "    print(\"The column '{}' does not contain negative values.\".format(column_name))"
   ]
  },
  {
   "cell_type": "code",
   "execution_count": 0,
   "metadata": {
    "application/vnd.databricks.v1+cell": {
     "cellMetadata": {
      "byteLimit": 2048000,
      "rowLimit": 10000
     },
     "inputWidgets": {},
     "nuid": "7ea64713-16d7-4a45-90a3-cad434a260f7",
     "showTitle": false,
     "title": ""
    }
   },
   "outputs": [
    {
     "output_type": "display_data",
     "data": {
      "text/html": [
       "<style scoped>\n",
       "  .table-result-container {\n",
       "    max-height: 300px;\n",
       "    overflow: auto;\n",
       "  }\n",
       "  table, th, td {\n",
       "    border: 1px solid black;\n",
       "    border-collapse: collapse;\n",
       "  }\n",
       "  th, td {\n",
       "    padding: 5px;\n",
       "  }\n",
       "  th {\n",
       "    text-align: left;\n",
       "  }\n",
       "</style><div class='table-result-container'><table class='table-result'><thead style='background-color: white'><tr><th>path</th><th>name</th><th>size</th><th>modificationTime</th></tr></thead><tbody><tr><td>dbfs:/FileStore/shared_uploads/sparklesparkle1102@outlook.com/yelp/_SUCCESS</td><td>_SUCCESS</td><td>0</td><td>1688628565000</td></tr><tr><td>dbfs:/FileStore/shared_uploads/sparklesparkle1102@outlook.com/yelp/_committed_1173459090301467925</td><td>_committed_1173459090301467925</td><td>2724</td><td>1688628565000</td></tr><tr><td>dbfs:/FileStore/shared_uploads/sparklesparkle1102@outlook.com/yelp/_started_1173459090301467925</td><td>_started_1173459090301467925</td><td>0</td><td>1688628538000</td></tr><tr><td>dbfs:/FileStore/shared_uploads/sparklesparkle1102@outlook.com/yelp/part-00000-tid-1173459090301467925-0a91ed2a-cb83-48a9-974c-f874244228ff-280-1-c000.json</td><td>part-00000-tid-1173459090301467925-0a91ed2a-cb83-48a9-974c-f874244228ff-280-1-c000.json</td><td>134188930</td><td>1688628542000</td></tr><tr><td>dbfs:/FileStore/shared_uploads/sparklesparkle1102@outlook.com/yelp/part-00001-tid-1173459090301467925-0a91ed2a-cb83-48a9-974c-f874244228ff-281-1-c000.json</td><td>part-00001-tid-1173459090301467925-0a91ed2a-cb83-48a9-974c-f874244228ff-281-1-c000.json</td><td>134190147</td><td>1688628542000</td></tr><tr><td>dbfs:/FileStore/shared_uploads/sparklesparkle1102@outlook.com/yelp/part-00002-tid-1173459090301467925-0a91ed2a-cb83-48a9-974c-f874244228ff-282-1-c000.json</td><td>part-00002-tid-1173459090301467925-0a91ed2a-cb83-48a9-974c-f874244228ff-282-1-c000.json</td><td>134190242</td><td>1688628542000</td></tr><tr><td>dbfs:/FileStore/shared_uploads/sparklesparkle1102@outlook.com/yelp/part-00003-tid-1173459090301467925-0a91ed2a-cb83-48a9-974c-f874244228ff-283-1-c000.json</td><td>part-00003-tid-1173459090301467925-0a91ed2a-cb83-48a9-974c-f874244228ff-283-1-c000.json</td><td>134189627</td><td>1688628542000</td></tr><tr><td>dbfs:/FileStore/shared_uploads/sparklesparkle1102@outlook.com/yelp/part-00004-tid-1173459090301467925-0a91ed2a-cb83-48a9-974c-f874244228ff-284-1-c000.json</td><td>part-00004-tid-1173459090301467925-0a91ed2a-cb83-48a9-974c-f874244228ff-284-1-c000.json</td><td>134189177</td><td>1688628546000</td></tr><tr><td>dbfs:/FileStore/shared_uploads/sparklesparkle1102@outlook.com/yelp/part-00005-tid-1173459090301467925-0a91ed2a-cb83-48a9-974c-f874244228ff-285-1-c000.json</td><td>part-00005-tid-1173459090301467925-0a91ed2a-cb83-48a9-974c-f874244228ff-285-1-c000.json</td><td>134191084</td><td>1688628546000</td></tr><tr><td>dbfs:/FileStore/shared_uploads/sparklesparkle1102@outlook.com/yelp/part-00006-tid-1173459090301467925-0a91ed2a-cb83-48a9-974c-f874244228ff-286-1-c000.json</td><td>part-00006-tid-1173459090301467925-0a91ed2a-cb83-48a9-974c-f874244228ff-286-1-c000.json</td><td>134191657</td><td>1688628546000</td></tr><tr><td>dbfs:/FileStore/shared_uploads/sparklesparkle1102@outlook.com/yelp/part-00007-tid-1173459090301467925-0a91ed2a-cb83-48a9-974c-f874244228ff-287-1-c000.json</td><td>part-00007-tid-1173459090301467925-0a91ed2a-cb83-48a9-974c-f874244228ff-287-1-c000.json</td><td>134194284</td><td>1688628546000</td></tr><tr><td>dbfs:/FileStore/shared_uploads/sparklesparkle1102@outlook.com/yelp/part-00008-tid-1173459090301467925-0a91ed2a-cb83-48a9-974c-f874244228ff-288-1-c000.json</td><td>part-00008-tid-1173459090301467925-0a91ed2a-cb83-48a9-974c-f874244228ff-288-1-c000.json</td><td>134192245</td><td>1688628549000</td></tr><tr><td>dbfs:/FileStore/shared_uploads/sparklesparkle1102@outlook.com/yelp/part-00009-tid-1173459090301467925-0a91ed2a-cb83-48a9-974c-f874244228ff-289-1-c000.json</td><td>part-00009-tid-1173459090301467925-0a91ed2a-cb83-48a9-974c-f874244228ff-289-1-c000.json</td><td>134192729</td><td>1688628550000</td></tr><tr><td>dbfs:/FileStore/shared_uploads/sparklesparkle1102@outlook.com/yelp/part-00010-tid-1173459090301467925-0a91ed2a-cb83-48a9-974c-f874244228ff-290-1-c000.json</td><td>part-00010-tid-1173459090301467925-0a91ed2a-cb83-48a9-974c-f874244228ff-290-1-c000.json</td><td>134191987</td><td>1688628550000</td></tr><tr><td>dbfs:/FileStore/shared_uploads/sparklesparkle1102@outlook.com/yelp/part-00011-tid-1173459090301467925-0a91ed2a-cb83-48a9-974c-f874244228ff-291-1-c000.json</td><td>part-00011-tid-1173459090301467925-0a91ed2a-cb83-48a9-974c-f874244228ff-291-1-c000.json</td><td>134189122</td><td>1688628550000</td></tr><tr><td>dbfs:/FileStore/shared_uploads/sparklesparkle1102@outlook.com/yelp/part-00012-tid-1173459090301467925-0a91ed2a-cb83-48a9-974c-f874244228ff-292-1-c000.json</td><td>part-00012-tid-1173459090301467925-0a91ed2a-cb83-48a9-974c-f874244228ff-292-1-c000.json</td><td>134189122</td><td>1688628553000</td></tr><tr><td>dbfs:/FileStore/shared_uploads/sparklesparkle1102@outlook.com/yelp/part-00013-tid-1173459090301467925-0a91ed2a-cb83-48a9-974c-f874244228ff-293-1-c000.json</td><td>part-00013-tid-1173459090301467925-0a91ed2a-cb83-48a9-974c-f874244228ff-293-1-c000.json</td><td>134191449</td><td>1688628553000</td></tr><tr><td>dbfs:/FileStore/shared_uploads/sparklesparkle1102@outlook.com/yelp/part-00014-tid-1173459090301467925-0a91ed2a-cb83-48a9-974c-f874244228ff-294-1-c000.json</td><td>part-00014-tid-1173459090301467925-0a91ed2a-cb83-48a9-974c-f874244228ff-294-1-c000.json</td><td>134193137</td><td>1688628553000</td></tr><tr><td>dbfs:/FileStore/shared_uploads/sparklesparkle1102@outlook.com/yelp/part-00015-tid-1173459090301467925-0a91ed2a-cb83-48a9-974c-f874244228ff-295-1-c000.json</td><td>part-00015-tid-1173459090301467925-0a91ed2a-cb83-48a9-974c-f874244228ff-295-1-c000.json</td><td>134191707</td><td>1688628553000</td></tr><tr><td>dbfs:/FileStore/shared_uploads/sparklesparkle1102@outlook.com/yelp/part-00016-tid-1173459090301467925-0a91ed2a-cb83-48a9-974c-f874244228ff-296-1-c000.json</td><td>part-00016-tid-1173459090301467925-0a91ed2a-cb83-48a9-974c-f874244228ff-296-1-c000.json</td><td>134190898</td><td>1688628556000</td></tr><tr><td>dbfs:/FileStore/shared_uploads/sparklesparkle1102@outlook.com/yelp/part-00017-tid-1173459090301467925-0a91ed2a-cb83-48a9-974c-f874244228ff-297-1-c000.json</td><td>part-00017-tid-1173459090301467925-0a91ed2a-cb83-48a9-974c-f874244228ff-297-1-c000.json</td><td>134190872</td><td>1688628556000</td></tr><tr><td>dbfs:/FileStore/shared_uploads/sparklesparkle1102@outlook.com/yelp/part-00018-tid-1173459090301467925-0a91ed2a-cb83-48a9-974c-f874244228ff-298-1-c000.json</td><td>part-00018-tid-1173459090301467925-0a91ed2a-cb83-48a9-974c-f874244228ff-298-1-c000.json</td><td>134191211</td><td>1688628557000</td></tr><tr><td>dbfs:/FileStore/shared_uploads/sparklesparkle1102@outlook.com/yelp/part-00019-tid-1173459090301467925-0a91ed2a-cb83-48a9-974c-f874244228ff-299-1-c000.json</td><td>part-00019-tid-1173459090301467925-0a91ed2a-cb83-48a9-974c-f874244228ff-299-1-c000.json</td><td>134192029</td><td>1688628557000</td></tr><tr><td>dbfs:/FileStore/shared_uploads/sparklesparkle1102@outlook.com/yelp/part-00020-tid-1173459090301467925-0a91ed2a-cb83-48a9-974c-f874244228ff-300-1-c000.json</td><td>part-00020-tid-1173459090301467925-0a91ed2a-cb83-48a9-974c-f874244228ff-300-1-c000.json</td><td>134191964</td><td>1688628560000</td></tr><tr><td>dbfs:/FileStore/shared_uploads/sparklesparkle1102@outlook.com/yelp/part-00021-tid-1173459090301467925-0a91ed2a-cb83-48a9-974c-f874244228ff-301-1-c000.json</td><td>part-00021-tid-1173459090301467925-0a91ed2a-cb83-48a9-974c-f874244228ff-301-1-c000.json</td><td>134191560</td><td>1688628560000</td></tr><tr><td>dbfs:/FileStore/shared_uploads/sparklesparkle1102@outlook.com/yelp/part-00022-tid-1173459090301467925-0a91ed2a-cb83-48a9-974c-f874244228ff-302-1-c000.json</td><td>part-00022-tid-1173459090301467925-0a91ed2a-cb83-48a9-974c-f874244228ff-302-1-c000.json</td><td>134192320</td><td>1688628560000</td></tr><tr><td>dbfs:/FileStore/shared_uploads/sparklesparkle1102@outlook.com/yelp/part-00023-tid-1173459090301467925-0a91ed2a-cb83-48a9-974c-f874244228ff-303-1-c000.json</td><td>part-00023-tid-1173459090301467925-0a91ed2a-cb83-48a9-974c-f874244228ff-303-1-c000.json</td><td>134193566</td><td>1688628560000</td></tr><tr><td>dbfs:/FileStore/shared_uploads/sparklesparkle1102@outlook.com/yelp/part-00024-tid-1173459090301467925-0a91ed2a-cb83-48a9-974c-f874244228ff-304-1-c000.json</td><td>part-00024-tid-1173459090301467925-0a91ed2a-cb83-48a9-974c-f874244228ff-304-1-c000.json</td><td>134191713</td><td>1688628563000</td></tr><tr><td>dbfs:/FileStore/shared_uploads/sparklesparkle1102@outlook.com/yelp/part-00025-tid-1173459090301467925-0a91ed2a-cb83-48a9-974c-f874244228ff-305-1-c000.json</td><td>part-00025-tid-1173459090301467925-0a91ed2a-cb83-48a9-974c-f874244228ff-305-1-c000.json</td><td>134192007</td><td>1688628563000</td></tr><tr><td>dbfs:/FileStore/shared_uploads/sparklesparkle1102@outlook.com/yelp/part-00026-tid-1173459090301467925-0a91ed2a-cb83-48a9-974c-f874244228ff-306-1-c000.json</td><td>part-00026-tid-1173459090301467925-0a91ed2a-cb83-48a9-974c-f874244228ff-306-1-c000.json</td><td>134192007</td><td>1688628563000</td></tr><tr><td>dbfs:/FileStore/shared_uploads/sparklesparkle1102@outlook.com/yelp/part-00027-tid-1173459090301467925-0a91ed2a-cb83-48a9-974c-f874244228ff-307-1-c000.json</td><td>part-00027-tid-1173459090301467925-0a91ed2a-cb83-48a9-974c-f874244228ff-307-1-c000.json</td><td>134192342</td><td>1688628563000</td></tr><tr><td>dbfs:/FileStore/shared_uploads/sparklesparkle1102@outlook.com/yelp/part-00028-tid-1173459090301467925-0a91ed2a-cb83-48a9-974c-f874244228ff-308-1-c000.json</td><td>part-00028-tid-1173459090301467925-0a91ed2a-cb83-48a9-974c-f874244228ff-308-1-c000.json</td><td>134192129</td><td>1688628565000</td></tr><tr><td>dbfs:/FileStore/shared_uploads/sparklesparkle1102@outlook.com/yelp/part-00029-tid-1173459090301467925-0a91ed2a-cb83-48a9-974c-f874244228ff-309-1-c000.json</td><td>part-00029-tid-1173459090301467925-0a91ed2a-cb83-48a9-974c-f874244228ff-309-1-c000.json</td><td>107352422</td><td>1688628565000</td></tr></tbody></table></div>"
      ]
     },
     "metadata": {
      "application/vnd.databricks.v1+output": {
       "addedWidgets": {},
       "aggData": [],
       "aggError": "",
       "aggOverflow": false,
       "aggSchema": [],
       "aggSeriesLimitReached": false,
       "aggType": "",
       "arguments": {},
       "columnCustomDisplayInfos": {},
       "data": [
        [
         "dbfs:/FileStore/shared_uploads/sparklesparkle1102@outlook.com/yelp/_SUCCESS",
         "_SUCCESS",
         0,
         1688628565000
        ],
        [
         "dbfs:/FileStore/shared_uploads/sparklesparkle1102@outlook.com/yelp/_committed_1173459090301467925",
         "_committed_1173459090301467925",
         2724,
         1688628565000
        ],
        [
         "dbfs:/FileStore/shared_uploads/sparklesparkle1102@outlook.com/yelp/_started_1173459090301467925",
         "_started_1173459090301467925",
         0,
         1688628538000
        ],
        [
         "dbfs:/FileStore/shared_uploads/sparklesparkle1102@outlook.com/yelp/part-00000-tid-1173459090301467925-0a91ed2a-cb83-48a9-974c-f874244228ff-280-1-c000.json",
         "part-00000-tid-1173459090301467925-0a91ed2a-cb83-48a9-974c-f874244228ff-280-1-c000.json",
         134188930,
         1688628542000
        ],
        [
         "dbfs:/FileStore/shared_uploads/sparklesparkle1102@outlook.com/yelp/part-00001-tid-1173459090301467925-0a91ed2a-cb83-48a9-974c-f874244228ff-281-1-c000.json",
         "part-00001-tid-1173459090301467925-0a91ed2a-cb83-48a9-974c-f874244228ff-281-1-c000.json",
         134190147,
         1688628542000
        ],
        [
         "dbfs:/FileStore/shared_uploads/sparklesparkle1102@outlook.com/yelp/part-00002-tid-1173459090301467925-0a91ed2a-cb83-48a9-974c-f874244228ff-282-1-c000.json",
         "part-00002-tid-1173459090301467925-0a91ed2a-cb83-48a9-974c-f874244228ff-282-1-c000.json",
         134190242,
         1688628542000
        ],
        [
         "dbfs:/FileStore/shared_uploads/sparklesparkle1102@outlook.com/yelp/part-00003-tid-1173459090301467925-0a91ed2a-cb83-48a9-974c-f874244228ff-283-1-c000.json",
         "part-00003-tid-1173459090301467925-0a91ed2a-cb83-48a9-974c-f874244228ff-283-1-c000.json",
         134189627,
         1688628542000
        ],
        [
         "dbfs:/FileStore/shared_uploads/sparklesparkle1102@outlook.com/yelp/part-00004-tid-1173459090301467925-0a91ed2a-cb83-48a9-974c-f874244228ff-284-1-c000.json",
         "part-00004-tid-1173459090301467925-0a91ed2a-cb83-48a9-974c-f874244228ff-284-1-c000.json",
         134189177,
         1688628546000
        ],
        [
         "dbfs:/FileStore/shared_uploads/sparklesparkle1102@outlook.com/yelp/part-00005-tid-1173459090301467925-0a91ed2a-cb83-48a9-974c-f874244228ff-285-1-c000.json",
         "part-00005-tid-1173459090301467925-0a91ed2a-cb83-48a9-974c-f874244228ff-285-1-c000.json",
         134191084,
         1688628546000
        ],
        [
         "dbfs:/FileStore/shared_uploads/sparklesparkle1102@outlook.com/yelp/part-00006-tid-1173459090301467925-0a91ed2a-cb83-48a9-974c-f874244228ff-286-1-c000.json",
         "part-00006-tid-1173459090301467925-0a91ed2a-cb83-48a9-974c-f874244228ff-286-1-c000.json",
         134191657,
         1688628546000
        ],
        [
         "dbfs:/FileStore/shared_uploads/sparklesparkle1102@outlook.com/yelp/part-00007-tid-1173459090301467925-0a91ed2a-cb83-48a9-974c-f874244228ff-287-1-c000.json",
         "part-00007-tid-1173459090301467925-0a91ed2a-cb83-48a9-974c-f874244228ff-287-1-c000.json",
         134194284,
         1688628546000
        ],
        [
         "dbfs:/FileStore/shared_uploads/sparklesparkle1102@outlook.com/yelp/part-00008-tid-1173459090301467925-0a91ed2a-cb83-48a9-974c-f874244228ff-288-1-c000.json",
         "part-00008-tid-1173459090301467925-0a91ed2a-cb83-48a9-974c-f874244228ff-288-1-c000.json",
         134192245,
         1688628549000
        ],
        [
         "dbfs:/FileStore/shared_uploads/sparklesparkle1102@outlook.com/yelp/part-00009-tid-1173459090301467925-0a91ed2a-cb83-48a9-974c-f874244228ff-289-1-c000.json",
         "part-00009-tid-1173459090301467925-0a91ed2a-cb83-48a9-974c-f874244228ff-289-1-c000.json",
         134192729,
         1688628550000
        ],
        [
         "dbfs:/FileStore/shared_uploads/sparklesparkle1102@outlook.com/yelp/part-00010-tid-1173459090301467925-0a91ed2a-cb83-48a9-974c-f874244228ff-290-1-c000.json",
         "part-00010-tid-1173459090301467925-0a91ed2a-cb83-48a9-974c-f874244228ff-290-1-c000.json",
         134191987,
         1688628550000
        ],
        [
         "dbfs:/FileStore/shared_uploads/sparklesparkle1102@outlook.com/yelp/part-00011-tid-1173459090301467925-0a91ed2a-cb83-48a9-974c-f874244228ff-291-1-c000.json",
         "part-00011-tid-1173459090301467925-0a91ed2a-cb83-48a9-974c-f874244228ff-291-1-c000.json",
         134189122,
         1688628550000
        ],
        [
         "dbfs:/FileStore/shared_uploads/sparklesparkle1102@outlook.com/yelp/part-00012-tid-1173459090301467925-0a91ed2a-cb83-48a9-974c-f874244228ff-292-1-c000.json",
         "part-00012-tid-1173459090301467925-0a91ed2a-cb83-48a9-974c-f874244228ff-292-1-c000.json",
         134189122,
         1688628553000
        ],
        [
         "dbfs:/FileStore/shared_uploads/sparklesparkle1102@outlook.com/yelp/part-00013-tid-1173459090301467925-0a91ed2a-cb83-48a9-974c-f874244228ff-293-1-c000.json",
         "part-00013-tid-1173459090301467925-0a91ed2a-cb83-48a9-974c-f874244228ff-293-1-c000.json",
         134191449,
         1688628553000
        ],
        [
         "dbfs:/FileStore/shared_uploads/sparklesparkle1102@outlook.com/yelp/part-00014-tid-1173459090301467925-0a91ed2a-cb83-48a9-974c-f874244228ff-294-1-c000.json",
         "part-00014-tid-1173459090301467925-0a91ed2a-cb83-48a9-974c-f874244228ff-294-1-c000.json",
         134193137,
         1688628553000
        ],
        [
         "dbfs:/FileStore/shared_uploads/sparklesparkle1102@outlook.com/yelp/part-00015-tid-1173459090301467925-0a91ed2a-cb83-48a9-974c-f874244228ff-295-1-c000.json",
         "part-00015-tid-1173459090301467925-0a91ed2a-cb83-48a9-974c-f874244228ff-295-1-c000.json",
         134191707,
         1688628553000
        ],
        [
         "dbfs:/FileStore/shared_uploads/sparklesparkle1102@outlook.com/yelp/part-00016-tid-1173459090301467925-0a91ed2a-cb83-48a9-974c-f874244228ff-296-1-c000.json",
         "part-00016-tid-1173459090301467925-0a91ed2a-cb83-48a9-974c-f874244228ff-296-1-c000.json",
         134190898,
         1688628556000
        ],
        [
         "dbfs:/FileStore/shared_uploads/sparklesparkle1102@outlook.com/yelp/part-00017-tid-1173459090301467925-0a91ed2a-cb83-48a9-974c-f874244228ff-297-1-c000.json",
         "part-00017-tid-1173459090301467925-0a91ed2a-cb83-48a9-974c-f874244228ff-297-1-c000.json",
         134190872,
         1688628556000
        ],
        [
         "dbfs:/FileStore/shared_uploads/sparklesparkle1102@outlook.com/yelp/part-00018-tid-1173459090301467925-0a91ed2a-cb83-48a9-974c-f874244228ff-298-1-c000.json",
         "part-00018-tid-1173459090301467925-0a91ed2a-cb83-48a9-974c-f874244228ff-298-1-c000.json",
         134191211,
         1688628557000
        ],
        [
         "dbfs:/FileStore/shared_uploads/sparklesparkle1102@outlook.com/yelp/part-00019-tid-1173459090301467925-0a91ed2a-cb83-48a9-974c-f874244228ff-299-1-c000.json",
         "part-00019-tid-1173459090301467925-0a91ed2a-cb83-48a9-974c-f874244228ff-299-1-c000.json",
         134192029,
         1688628557000
        ],
        [
         "dbfs:/FileStore/shared_uploads/sparklesparkle1102@outlook.com/yelp/part-00020-tid-1173459090301467925-0a91ed2a-cb83-48a9-974c-f874244228ff-300-1-c000.json",
         "part-00020-tid-1173459090301467925-0a91ed2a-cb83-48a9-974c-f874244228ff-300-1-c000.json",
         134191964,
         1688628560000
        ],
        [
         "dbfs:/FileStore/shared_uploads/sparklesparkle1102@outlook.com/yelp/part-00021-tid-1173459090301467925-0a91ed2a-cb83-48a9-974c-f874244228ff-301-1-c000.json",
         "part-00021-tid-1173459090301467925-0a91ed2a-cb83-48a9-974c-f874244228ff-301-1-c000.json",
         134191560,
         1688628560000
        ],
        [
         "dbfs:/FileStore/shared_uploads/sparklesparkle1102@outlook.com/yelp/part-00022-tid-1173459090301467925-0a91ed2a-cb83-48a9-974c-f874244228ff-302-1-c000.json",
         "part-00022-tid-1173459090301467925-0a91ed2a-cb83-48a9-974c-f874244228ff-302-1-c000.json",
         134192320,
         1688628560000
        ],
        [
         "dbfs:/FileStore/shared_uploads/sparklesparkle1102@outlook.com/yelp/part-00023-tid-1173459090301467925-0a91ed2a-cb83-48a9-974c-f874244228ff-303-1-c000.json",
         "part-00023-tid-1173459090301467925-0a91ed2a-cb83-48a9-974c-f874244228ff-303-1-c000.json",
         134193566,
         1688628560000
        ],
        [
         "dbfs:/FileStore/shared_uploads/sparklesparkle1102@outlook.com/yelp/part-00024-tid-1173459090301467925-0a91ed2a-cb83-48a9-974c-f874244228ff-304-1-c000.json",
         "part-00024-tid-1173459090301467925-0a91ed2a-cb83-48a9-974c-f874244228ff-304-1-c000.json",
         134191713,
         1688628563000
        ],
        [
         "dbfs:/FileStore/shared_uploads/sparklesparkle1102@outlook.com/yelp/part-00025-tid-1173459090301467925-0a91ed2a-cb83-48a9-974c-f874244228ff-305-1-c000.json",
         "part-00025-tid-1173459090301467925-0a91ed2a-cb83-48a9-974c-f874244228ff-305-1-c000.json",
         134192007,
         1688628563000
        ],
        [
         "dbfs:/FileStore/shared_uploads/sparklesparkle1102@outlook.com/yelp/part-00026-tid-1173459090301467925-0a91ed2a-cb83-48a9-974c-f874244228ff-306-1-c000.json",
         "part-00026-tid-1173459090301467925-0a91ed2a-cb83-48a9-974c-f874244228ff-306-1-c000.json",
         134192007,
         1688628563000
        ],
        [
         "dbfs:/FileStore/shared_uploads/sparklesparkle1102@outlook.com/yelp/part-00027-tid-1173459090301467925-0a91ed2a-cb83-48a9-974c-f874244228ff-307-1-c000.json",
         "part-00027-tid-1173459090301467925-0a91ed2a-cb83-48a9-974c-f874244228ff-307-1-c000.json",
         134192342,
         1688628563000
        ],
        [
         "dbfs:/FileStore/shared_uploads/sparklesparkle1102@outlook.com/yelp/part-00028-tid-1173459090301467925-0a91ed2a-cb83-48a9-974c-f874244228ff-308-1-c000.json",
         "part-00028-tid-1173459090301467925-0a91ed2a-cb83-48a9-974c-f874244228ff-308-1-c000.json",
         134192129,
         1688628565000
        ],
        [
         "dbfs:/FileStore/shared_uploads/sparklesparkle1102@outlook.com/yelp/part-00029-tid-1173459090301467925-0a91ed2a-cb83-48a9-974c-f874244228ff-309-1-c000.json",
         "part-00029-tid-1173459090301467925-0a91ed2a-cb83-48a9-974c-f874244228ff-309-1-c000.json",
         107352422,
         1688628565000
        ]
       ],
       "datasetInfos": [],
       "dbfsResultPath": null,
       "isJsonSchema": true,
       "metadata": {
        "isDbfsCommandResult": false
       },
       "overflow": false,
       "plotOptions": {
        "customPlotOptions": {},
        "displayType": "table",
        "pivotAggregation": null,
        "pivotColumns": null,
        "xColumns": null,
        "yColumns": null
       },
       "removedWidgets": [],
       "schema": [
        {
         "metadata": "{}",
         "name": "path",
         "type": "\"string\""
        },
        {
         "metadata": "{}",
         "name": "name",
         "type": "\"string\""
        },
        {
         "metadata": "{}",
         "name": "size",
         "type": "\"long\""
        },
        {
         "metadata": "{}",
         "name": "modificationTime",
         "type": "\"long\""
        }
       ],
       "type": "table"
      }
     },
     "output_type": "display_data"
    }
   ],
   "source": [
    "%fs ls dbfs:/FileStore/shared_uploads/sparklesparkle1102@outlook.com/yelp"
   ]
  },
  {
   "cell_type": "markdown",
   "metadata": {
    "application/vnd.databricks.v1+cell": {
     "cellMetadata": {},
     "inputWidgets": {},
     "nuid": "aaa6a2fb-ef63-4c55-8129-403b401cdeda",
     "showTitle": false,
     "title": ""
    }
   },
   "source": [
    "## Function raw_to_bronze"
   ]
  },
  {
   "cell_type": "code",
   "execution_count": 0,
   "metadata": {
    "application/vnd.databricks.v1+cell": {
     "cellMetadata": {},
     "inputWidgets": {},
     "nuid": "2622e3b7-9c18-44b3-8603-85b776d45277",
     "showTitle": false,
     "title": ""
    }
   },
   "outputs": [],
   "source": [
    "from pyspark.sql import SparkSession\n",
    "from pyspark.sql.functions import col, sum\n",
    "\n",
    "def read_and_load_to_bronze(input_file_1, input_file_2, bronze_table_name_1, bronze_table_name_2):\n",
    "    # Create a SparkSession\n",
    "    spark = SparkSession.builder.getOrCreate()\n",
    "\n",
    "    # Read the raw data from the input file into a DataFrame\n",
    "    business_df = spark.read.format(\"json\").load(input_file_1)\n",
    "    #tip_df = spark.read.format(\"json\").load(\"dbfs:/FileStore/shared_uploads/sparklesparkle1102@outlook.com/yelp_academic_dataset_tip.json\")\n",
    "    #checkin_df = spark.read.format(\"json\").load(\"dbfs:/FileStore/shared_uploads/sparklesparkle1102@outlook.com/yelp_academic_dataset_checkin.json\")\n",
    "    review_df = spark.read.parquet(input_file_2)\n",
    "    #user_df = spark.read.parquet(\"dbfs:/FileStore/shared_uploads/sparklesparkle1102@outlook.com/user.parquet\")\n",
    "\n",
    "    # Perform any necessary transformations or cleaning on the raw_data DataFrame\n",
    "\n",
    "        \n",
    "        #1. Select all required columns for DA team\n",
    "        \n",
    "        business_df_final = business_df.select(\"business_id\", \"city\", \"state\", \"categories\", \"review_count\")\n",
    "        review_df_final = review_df.select(\"review_id\", \"business_id\", \"user_id\", \"date\")\n",
    "\n",
    "        \n",
    "        #2. Check duplicates in prime key\n",
    "        \n",
    "        # Group by the primary key column(s) and count the occurrences\n",
    "        duplicate_rows_business = business_df_final_.groupBy('business_id').count().filter(col('count') > 1)\n",
    "        duplicate_rows_review = review_df_final_.groupBy('review_id').count().filter(col('count') > 1)\n",
    "\n",
    "        # Check if there are any duplicate rows in the primary key\n",
    "        if duplicate_rows_business.count() > 0:\n",
    "            print(\"Duplicate rows found in the primary key: business_id.\")\n",
    "            duplicate_rows_business.show()\n",
    "        elif duplicate_rows_review.count() > 0:\n",
    "            print(\"Duplicate rows found in the primary key: review_id.\")\n",
    "            duplicate_rows_review.show()\n",
    "        else:\n",
    "            print(\"No duplicate rows found in the primary key.\")\n",
    "        \n",
    "        \n",
    "        #3. Check Null values\n",
    "        # Calculate the sum of null values in each column\n",
    "        null_counts_business = business_df_final_.select([sum(col(column).isNull().cast(\"integer\")).alias(column) for column in business_df_final_.columns])\n",
    "        null_counts_review = review_df_final_.select([sum(col(column).isNull().cast(\"integer\")).alias(column) for column in review_df_final_.columns])\n",
    "\n",
    "        # Show the column-wise null value counts\n",
    "        null_counts_business.show()\n",
    "        null_counts_review.show() \n",
    "\n",
    "        \n",
    "        #4. Fill the Null Values with a default value\n",
    "        # Get the columns name with Null values\n",
    "        subset_business = [column for column in null_counts_business.columns if null_counts_business.filter(col(column).isNotNull() & (col(column) != 0)).count() > 0]\n",
    "        subset_review = [column for column in null_counts_review.columns if null_counts_review.filter(col(column).isNotNull() & (col(column) != 0)).count() > 0]\n",
    "\n",
    "        # Fill null values with a default value\n",
    "        business_df_final_filled = business_df_final_.fillna('N/A', subset=subset_business)\n",
    "        review_df_final_filled = review_df_final_.fillna('N/A', subset=subset_review)\n",
    "\n",
    "        \n",
    "        #5. Check if there are negtive values in business table\n",
    "        # Specify the name of the column to check\n",
    "        column_name = \"review_count\"\n",
    "\n",
    "        # Check if there are negative values in the specified column\n",
    "        has_negative_values = business_df_final_filled.filter(col(column_name).isNotNull() & (col(column_name) < 0)).count() > 0\n",
    "\n",
    "        # Print the result\n",
    "        if has_negative_values:\n",
    "            print(\"The column '{}' contains negative values.\".format(column_name))\n",
    "        else:\n",
    "            print(\"The column '{}' does not contain negative values.\".format(column_name))\n",
    "\n",
    "    # Write the DataFrame to the bronze table\n",
    "    business_df_final_filled.mode(\"append\").saveAsTable(bronze_table_name_1)\n",
    "    review_df_final_filled.mode(\"append\").saveAsTable(bronze_table_name_2)\n",
    "\n",
    "# Example usage:\n",
    "input_file_1 = \"dbfs:/FileStore/shared_uploads/sparklesparkle1102@outlook.com/yelp_academic_dataset_business.json\"\n",
    "input_file_2 = \"dbfs:/FileStore/shared_uploads/sparklesparkle1102@outlook.com/review_parquet\"\n",
    "bronze_table_name_1 = \"business_bronze\"\n",
    "bronze_table_name_2 = \"review_bronze\"\n",
    "\n",
    "read_and_load_to_bronze(input_file_1, input_file_2, bronze_table_name_1, bronze_table_name_2)"
   ]
  },
  {
   "cell_type": "markdown",
   "metadata": {
    "application/vnd.databricks.v1+cell": {
     "cellMetadata": {},
     "inputWidgets": {},
     "nuid": "1bbbce34-8236-4cae-9368-4875b4cef8c5",
     "showTitle": false,
     "title": ""
    }
   },
   "source": [
    "## Create a mapping relation ship between business and each category"
   ]
  },
  {
   "cell_type": "code",
   "execution_count": 0,
   "metadata": {
    "application/vnd.databricks.v1+cell": {
     "cellMetadata": {
      "byteLimit": 2048000,
      "rowLimit": 10000
     },
     "inputWidgets": {},
     "nuid": "2370874d-4692-47ec-a2ca-30e675ccece0",
     "showTitle": false,
     "title": ""
    }
   },
   "outputs": [
    {
     "output_type": "stream",
     "name": "stdout",
     "output_type": "stream",
     "text": [
      "+--------------------+-------------------+\n|         business_id|           category|\n+--------------------+-------------------+\n|cVBxfMC4lp3DnocjY...|       Coffee & Tea|\n|cVBxfMC4lp3DnocjY...|              Cafes|\n|cVBxfMC4lp3DnocjY...|               Pets|\n|cVBxfMC4lp3DnocjY...|        Restaurants|\n|cVBxfMC4lp3DnocjY...|       Pet Adoption|\n|cVBxfMC4lp3DnocjY...|               Food|\n|1P_mGUY1PyPq7_Zab...|            Italian|\n|1P_mGUY1PyPq7_Zab...|        Restaurants|\n|1P_mGUY1PyPq7_Zab...|        Steakhouses|\n|LdQUIP4_DPnJjq-Jf...|        Auto Repair|\n|LdQUIP4_DPnJjq-Jf...|         Automotive|\n|LdQUIP4_DPnJjq-Jf...| Auto Customization|\n|jfz_-ngCCAbKUzilu...|        Hair Salons|\n|jfz_-ngCCAbKUzilu...|      Hair Stylists|\n|jfz_-ngCCAbKUzilu...|      Beauty & Spas|\n|jfz_-ngCCAbKUzilu...|       Hair Removal|\n|jfz_-ngCCAbKUzilu...|    Eyelash Service|\n|jfz_-ngCCAbKUzilu...|        Nail Salons|\n|rrdSkNz4YG6eDgOq3...|         Automotive|\n|rrdSkNz4YG6eDgOq3...|        Car Dealers|\n+--------------------+-------------------+\nonly showing top 20 rows\n\n"
     ]
    }
   ],
   "source": [
    "from pyspark.sql.functions import split, explode\n",
    "\n",
    "# Split the categories column by comma delimiter and explode the resulting array\n",
    "business_category_df = business_df_final_filled.selectExpr('business_id', \"explode(split({}, ',')) AS category\".format('categories'))\n",
    "\n",
    "# Show the business category table\n",
    "business_category_df.show()"
   ]
  },
  {
   "cell_type": "markdown",
   "metadata": {
    "application/vnd.databricks.v1+cell": {
     "cellMetadata": {},
     "inputWidgets": {},
     "nuid": "7b61cd6c-1a1c-4a54-9c28-2e985b0c8ab4",
     "showTitle": false,
     "title": ""
    }
   },
   "source": [
    "## Create prime key for the mapping table"
   ]
  },
  {
   "cell_type": "code",
   "execution_count": 0,
   "metadata": {
    "application/vnd.databricks.v1+cell": {
     "cellMetadata": {},
     "inputWidgets": {},
     "nuid": "c42e9273-ae4b-4471-8233-810fe68b20ee",
     "showTitle": false,
     "title": ""
    }
   },
   "outputs": [],
   "source": [
    "%sql\n",
    "-- Assuming `table_name` is the name of the table and `column_name` is the column to be set as the primary key\n",
    "\n",
    "-- Add primary key constraint\n",
    "ALTER TABLE business_category_df\n",
    "ADD CONSTRAINT pk_constraint_name PRIMARY KEY (column_name);\n"
   ]
  },
  {
   "cell_type": "markdown",
   "metadata": {
    "application/vnd.databricks.v1+cell": {
     "cellMetadata": {},
     "inputWidgets": {},
     "nuid": "5b94721f-fe8a-4eeb-ac68-7931392186a9",
     "showTitle": false,
     "title": ""
    }
   },
   "source": [
    "## Function bronze to silver"
   ]
  },
  {
   "cell_type": "markdown",
   "metadata": {
    "application/vnd.databricks.v1+cell": {
     "cellMetadata": {},
     "inputWidgets": {},
     "nuid": "dcd2c684-2dfa-4bef-be09-5e856fa192e1",
     "showTitle": false,
     "title": ""
    }
   },
   "source": [
    "I do want to complete the function but I can't finish all before the ddl. \n",
    "I plan to turn bronze table to silver with the following steps:\n",
    "<br>\n",
    "1. create a category table which shows the mapping relationship between business_id and category\n",
    "  <br>This table contains the following columns: \n",
    "  <br>business_id:string\n",
    "  <br>category:string\n",
    "  <br>prime_key:long\n",
    "  <br>timestamp:date\n",
    "2. create a business table\n",
    "  <br>This table contains the following columns: \n",
    "  <br>business_id:string\n",
    "  <br>city:string\n",
    "  <br>state:string\n",
    "  <br>review_count:long\n",
    "  <br>prime_key:long\n",
    "  <br>timestamp:date\n",
    "3. create a review table\n",
    "  <br>This table contains the following columns:\n",
    "  <br>review_id:string\n",
    "  <br>business_id:string\n",
    "  <br>user_id:string\n",
    "  <br>date:date\n",
    "  <br>prime_key:long\n",
    "  <br>timestamp:date\n",
    "4. save those tables to database.\n",
    "5. maybe add a column which help to flag new_entry/edit/delete"
   ]
  },
  {
   "cell_type": "code",
   "execution_count": 0,
   "metadata": {
    "application/vnd.databricks.v1+cell": {
     "cellMetadata": {},
     "inputWidgets": {},
     "nuid": "8ff97d0e-a910-4c42-96e7-d5efe56b0e26",
     "showTitle": false,
     "title": ""
    }
   },
   "outputs": [],
   "source": [
    "from pyspark.sql.functions import col\n",
    "\n",
    "def transform_bronze_to_silver(bronze_df):\n",
    "    \"\"\"\n",
    "    Function to transform data from the bronze to silver layer.\n",
    "    \n",
    "    Args:\n",
    "        bronze_df (DataFrame): The input DataFrame from the bronze layer.\n",
    "        \n",
    "    Returns:\n",
    "        DataFrame: The transformed DataFrame in the silver layer.\n",
    "    \"\"\"\n",
    "    # Apply necessary transformations and data processing\n",
    "    silver_df = bronze_df.select(\n",
    "        col(\"business_id\"),\n",
    "        col(\"business_name\"),\n",
    "        col(\"categories\").split(\",\\s*\").alias(\"categories\"),\n",
    "        col(\"address\"),\n",
    "        # Add more columns and transformations as needed\n",
    "    )\n",
    "    \n",
    "    # Convert string column to date and time\n",
    "    silver_df_with_datetime = silver_df.withColumn(\"datetime\", to_timestamp(\"date_string_column\", \"yyyy-MM-dd HH:mm:ss\"))\n",
    "\n",
    "    # Add a new column with the current timestamp\n",
    "    silver_df_with_timestamp = silver_df.withColumn(\"timestamp\", current_timestamp())\n",
    "\n",
    "    # Perform additional cleaning, validation, or enrichment steps\n",
    "    \n",
    "    return silver_df\n",
    "\n",
    "# Example usage:\n",
    "bronze_df = spark.read.parquet(\"bronze_table.parquet\")  # Read bronze table\n",
    "silver_df = transform_bronze_to_silver(bronze_df)  # Transform from bronze to silver\n",
    "silver_df.write.parquet(\"silver_table.parquet\")  # Write silver table\n"
   ]
  }
 ],
 "metadata": {
  "application/vnd.databricks.v1+notebook": {
   "dashboards": [
    {
     "elements": [],
     "globalVars": {},
     "guid": "4e8f14ff-96af-447b-b565-7ea9fca42241",
     "layoutOption": {
      "grid": true,
      "stack": true
     },
     "nuid": "b634761d-8a7b-4fa8-8132-93ae4af1a32a",
     "origId": 2692822212138650,
     "title": "Untitled",
     "version": "DashboardViewV1",
     "width": 1024
    }
   ],
   "language": "python",
   "notebookMetadata": {
    "mostRecentlyExecutedCommandWithImplicitDF": {
     "commandId": 539325668019345,
     "dataframes": [
      "_sqldf"
     ]
    },
    "pythonIndentUnit": 4
   },
   "notebookName": "Project_1",
   "widgets": {}
  }
 },
 "nbformat": 4,
 "nbformat_minor": 0
}
